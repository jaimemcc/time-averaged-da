{
 "cells": [
  {
   "cell_type": "code",
   "execution_count": null,
   "metadata": {},
   "outputs": [],
   "source": [
    "from pathlib import Path\n",
    "import numpy as np\n",
    "import pandas as pd\n",
    "import matplotlib.pyplot as plt\n",
    "from matplotlib.markers import MarkerStyle\n",
    "import seaborn as sns\n",
    "import tdt\n",
    "import trompy as tp\n",
    "\n",
    "import dill"
   ]
  },
  {
   "cell_type": "code",
   "execution_count": null,
   "metadata": {},
   "outputs": [],
   "source": [
    "DATAFOLDER = Path(\"..\\\\data\")\n",
    "df = pd.read_excel(\"..\\\\experiment_info_gsheet.xlsx\", sheet_name=\"Sheet1\")"
   ]
  },
  {
   "cell_type": "code",
   "execution_count": null,
   "metadata": {},
   "outputs": [],
   "source": [
    "# this function should get snips from the tank\n",
    "# should add pre, post and other functions\n",
    "def get_snips(tank):\n",
    "    # preprocess streams\n",
    "    \n",
    "    data = tdt.read_block(tank)\n",
    "    blue = data.streams[\"x65A\"].data\n",
    "    uv = data.streams[\"x05A\"].data\n",
    "    fs = data.streams[\"x05A\"].fs\n",
    "    \n",
    "    filtered_sig = tp.processdata(blue, uv, fs=fs)\n",
    "    \n",
    "    # get epochs\n",
    "    sol = data.epocs.Sper.onset\n",
    "    \n",
    "    #make snips\n",
    "    snips = tp.snipper(filtered_sig, sol, fs=fs, pre=10, post=20, bins=300)[0]\n",
    "    \n",
    "    # baseline correction - correct to minimum value in the pre period\n",
    "    snips = snips - snips[:, :100].min(axis=1)[:, None]\n",
    "    # and maybe scale them so they all go between -1 and 1 based on the same parameters\n",
    "    \n",
    "    # return snips\n",
    "    return snips\n",
    "\n",
    "TANK = str(DATAFOLDER / \"Svg130-210727-115203\")\n",
    "snips = get_snips(TANK)"
   ]
  },
  {
   "cell_type": "code",
   "execution_count": null,
   "metadata": {},
   "outputs": [],
   "source": [
    "snips_dict = {}\n",
    "for row in df.iterrows():\n",
    "    TANK = str(DATAFOLDER / row[1].tank)\n",
    "    snips = get_snips(TANK)\n",
    "    \n",
    "    snips_dict[f\"{row[1].rat}_{row[1].condition}\"] = snips"
   ]
  },
  {
   "cell_type": "code",
   "execution_count": null,
   "metadata": {},
   "outputs": [],
   "source": [
    "with open(DATAFOLDER / \"snips_dict.pickle\", \"wb\") as f:\n",
    "    dill.dump(snips_dict, f)"
   ]
  },
  {
   "cell_type": "code",
   "execution_count": null,
   "metadata": {},
   "outputs": [],
   "source": [
    "def snips_fig(snips):\n",
    "    fig, ax = plt.subplots()\n",
    "    for snip in snips:\n",
    "        ax.plot(snip, color=\"black\", alpha=0.3)\n",
    "\n",
    "    ax.plot(np.mean(snips, axis=0))\n",
    "    \n",
    "def snips_changing_baseline_fig(snips, highlights=[]):\n",
    "    fig, ax = plt.subplots()\n",
    "    for idx, snip in enumerate(snips):\n",
    "        if idx in highlights:\n",
    "            ax.plot(snip+idx, color=\"red\", alpha=0.99)\n",
    "        else:\n",
    "            ax.plot(snip+idx, color=\"black\", alpha=0.3)\n",
    "\n",
    "def heatmap(snips):\n",
    "    fig, ax = plt.subplots()\n",
    "    sns.heatmap(snips, cmap=\"Greys\", ax=ax, vmin=0, vmax=5)\n",
    "    "
   ]
  },
  {
   "cell_type": "code",
   "execution_count": null,
   "metadata": {},
   "outputs": [],
   "source": [
    "snips = snips_dict[\"SVG135_FD\"]\n",
    "highlights = [1, 8, 10, 23, 26]\n",
    "\n",
    "f, [[ax1, ax2],\n",
    "    [ax3, ax4]] = plt.subplots(nrows=2, ncols=2,\n",
    "                     gridspec_kw={'width_ratios': [20, 1],\n",
    "                                  \"hspace\": 0.1,\n",
    "                                  \"wspace\": 0.1},\n",
    "                     figsize=(5, 5),\n",
    "                     )\n",
    "\n",
    "sns.heatmap(snips, cmap=\"Greys\", ax=ax1, vmin=0, vmax=4, cbar_ax=ax2)\n",
    "ax1.set_xticks([])\n",
    "ax1.set_yticks([])\n",
    "\n",
    "right_triangle = MarkerStyle(marker=(3, 0, -90))\n",
    "for hl in highlights:\n",
    "    ax1.plot(-5, hl+0.5, marker=right_triangle, color=\"red\", zorder=20, clip_on=False)\n",
    "\n",
    "ax1.plot((250, 300), (32, 32), color=\"black\", clip_on=False)\n",
    "ax1.text(275, 33, \"5 s\", ha=\"center\", va=\"top\")\n",
    "\n",
    "\n",
    "for hl in highlights:\n",
    "    ax3.plot(snips[hl,:], color=\"red\", alpha=0.4)\n",
    "\n",
    "ax3.plot(np.mean(snips, axis=0), color=\"black\")\n",
    "ax3.set_xticks([])\n",
    "ax3.set_yticks([])\n",
    "ax3.sharex(ax1)\n",
    "ax3.axhline(0, linestyle=\"--\", color=\"black\")\n",
    "\n",
    "for spines in [\"top\", \"right\", \"left\", \"bottom\"]:\n",
    "    ax3.spines[spines].set_visible(False)\n",
    "\n",
    "ax3.plot((310, 310), (1, 2), color=\"black\", clip_on=False)\n",
    "ax3.text(312, 1.5, \"1Z\", ha=\"left\", va=\"center\")\n",
    "\n",
    "ax4.remove()\n"
   ]
  },
  {
   "cell_type": "code",
   "execution_count": null,
   "metadata": {},
   "outputs": [],
   "source": [
    "heatmap(snips_dict[\"SVG135_FD\"])"
   ]
  },
  {
   "cell_type": "code",
   "execution_count": null,
   "metadata": {},
   "outputs": [],
   "source": [
    "snips_changing_baseline_fig(snips_dict[\"SVG135_FD\"], highlights=[7, 12, 23])"
   ]
  },
  {
   "cell_type": "code",
   "execution_count": null,
   "metadata": {},
   "outputs": [],
   "source": [
    "def calculate_minima(data, window_size):\n",
    "    \"\"\"\n",
    "    Calculate the rolling minima over a specified window size.\n",
    "\n",
    "    Parameters:\n",
    "    data (pd.Series or pd.DataFrame): The input data.\n",
    "    window_size (int): The size of the rolling window.\n",
    "\n",
    "    Returns:\n",
    "    pd.Series or pd.DataFrame: The rolling minima.\n",
    "    \"\"\"\n",
    "    return data.rolling(window=window_size).min()\n",
    "\n",
    "calculate_minima(pd.Series(snips[0,:]), 10)"
   ]
  },
  {
   "cell_type": "code",
   "execution_count": null,
   "metadata": {},
   "outputs": [],
   "source": []
  }
 ],
 "metadata": {
  "kernelspec": {
   "display_name": "default",
   "language": "python",
   "name": "python3"
  },
  "language_info": {
   "codemirror_mode": {
    "name": "ipython",
    "version": 3
   },
   "file_extension": ".py",
   "mimetype": "text/x-python",
   "name": "python",
   "nbconvert_exporter": "python",
   "pygments_lexer": "ipython3",
   "version": "3.10.16"
  }
 },
 "nbformat": 4,
 "nbformat_minor": 2
}
